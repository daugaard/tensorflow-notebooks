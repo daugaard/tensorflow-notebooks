{
 "cells": [
  {
   "cell_type": "markdown",
   "metadata": {},
   "source": [
    "# Example of deep NN for MNIST data"
   ]
  },
  {
   "cell_type": "code",
   "execution_count": 1,
   "metadata": {},
   "outputs": [],
   "source": [
    "import tensorflow as tf\n",
    "import numpy as np\n",
    "import math\n",
    "import matplotlib.pyplot as plt \n",
    "import idx2numpy"
   ]
  },
  {
   "cell_type": "markdown",
   "metadata": {},
   "source": [
    "# Import dataset and convert to one-hot encoding and a [m,784] matrix"
   ]
  },
  {
   "cell_type": "code",
   "execution_count": 2,
   "metadata": {},
   "outputs": [],
   "source": [
    "Y_test_classes = idx2numpy.convert_from_file('data/t10k-labels.idx1-ubyte')\n",
    "X_test = idx2numpy.convert_from_file('data/t10k-images.idx3-ubyte')\n",
    "\n",
    "Y_train_classes = idx2numpy.convert_from_file('data/train-labels.idx1-ubyte')\n",
    "X_train = idx2numpy.convert_from_file('data/train-images.idx3-ubyte')"
   ]
  },
  {
   "cell_type": "code",
   "execution_count": 3,
   "metadata": {},
   "outputs": [
    {
     "name": "stdout",
     "output_type": "stream",
     "text": [
      "Digit= 5 Digit Encoded= [0. 0. 0. 0. 0. 1. 0. 0. 0. 0.]\n"
     ]
    },
    {
     "data": {
      "text/plain": [
       "<matplotlib.image.AxesImage at 0x7f664c817be0>"
      ]
     },
     "execution_count": 3,
     "metadata": {},
     "output_type": "execute_result"
    },
    {
     "data": {
      "image/png": "[encoded data removed]",
      "text/plain": [
       "<Figure size 432x288 with 1 Axes>"
      ]
     },
     "metadata": {},
     "output_type": "display_data"
    }
   ],
   "source": [
    "number_of_classes = np.unique(Y_test_classes).size\n",
    "\n",
    "Y_test = np.eye(number_of_classes)[Y_test_classes]\n",
    "Y_train = np.eye(number_of_classes)[Y_train_classes]\n",
    "\n",
    "print(\"Digit=\", Y_train_classes[0], \"Digit Encoded=\", Y_train[0])\n",
    "\n",
    "plt.imshow(X_train[0])"
   ]
  },
  {
   "cell_type": "code",
   "execution_count": 4,
   "metadata": {},
   "outputs": [],
   "source": [
    "# Convert input from image to 4D matrix\n",
    "X_test = np.reshape(X_test,[-1,28,28,1])\n",
    "X_train = np.reshape(X_train,[-1,28,28,1])"
   ]
  },
  {
   "cell_type": "markdown",
   "metadata": {},
   "source": [
    "# Setup deep NN model\n",
    "We'll be setting put a network with the following architecture:\n",
    "CONV1 -> MAXPOOL1 -> CONV2 -> MAXPOOL2 -> FC RELU -> SOFTMAX"
   ]
  },
  {
   "cell_type": "code",
   "execution_count": 5,
   "metadata": {},
   "outputs": [],
   "source": [
    "filters_conv1 = 32\n",
    "filters_conv2 = 64\n",
    "fc_size = 512\n",
    "\n",
    "X = tf.placeholder(tf.float32, [None,28,28,1], name=\"input\")\n",
    "Y = tf.placeholder(tf.float32, [None,10], name=\"labels\")\n",
    "\n",
    "# Define variables for model\n",
    "# CONV1 LAYER\n",
    "W1 = tf.Variable( tf.truncated_normal([5,5,1,filters_conv1], stddev=0.1) )\n",
    "b1 = tf.Variable(np.zeros(filters_conv1), dtype=tf.float32)\n",
    "\n",
    "CONV1 = tf.nn.relu( tf.nn.conv2d(X,W1,strides=[1,1,1,1],padding=\"SAME\") + b1)\n",
    "MAXPOOL1 = tf.nn.max_pool(CONV1, ksize=[1,2,2,1], strides=[1,2,2,1],padding=\"SAME\")\n",
    "\n",
    "# CONV2 LAYER\n",
    "W2 = tf.Variable( tf.truncated_normal([5,5,filters_conv1,filters_conv2], stddev=0.1) )\n",
    "b2 = tf.Variable(np.zeros(filters_conv2), dtype=tf.float32)\n",
    "\n",
    "CONV2 = tf.nn.relu( tf.nn.conv2d(MAXPOOL1, W2,strides=[1,1,1,1],padding=\"SAME\") + b2)\n",
    "MAXPOOL2 = tf.nn.max_pool(CONV2, ksize=[1,2,2,1], strides=[1,2,2,1],padding=\"SAME\")\n",
    "\n",
    "# FC LAYER\n",
    "W3 = tf.Variable( tf.truncated_normal([7*7*filters_conv2, fc_size], stddev=0.1 ))\n",
    "b3 = tf.Variable(np.zeros(fc_size), dtype=tf.float32)\n",
    "\n",
    "# Flatten image data\n",
    "FLATTEN = tf.reshape(MAXPOOL2, [-1,7*7*filters_conv2])\n",
    "\n",
    "# Fully-connected layer + dropout regularization\n",
    "FC = tf.nn.relu( tf.matmul(FLATTEN, W3) + b3 )\n",
    "keep_prob = tf.placeholder(tf.float32)\n",
    "FC = tf.nn.dropout(FC, keep_prob)\n",
    "\n",
    "# SOFTMAX layer\n",
    "W4 = tf.Variable(tf.truncated_normal([fc_size, 10], stddev=0.1))\n",
    "b4 = tf.Variable(np.zeros(10), dtype=tf.float32)\n",
    "\n",
    "prediction = tf.matmul(FC, W4) + b4"
   ]
  },
  {
   "cell_type": "markdown",
   "metadata": {},
   "source": [
    "## Define cost and optimizer"
   ]
  },
  {
   "cell_type": "code",
   "execution_count": 7,
   "metadata": {},
   "outputs": [],
   "source": [
    "# Cost function will use cross entropy\n",
    "cost_fn = tf.reduce_mean(tf.nn.softmax_cross_entropy_with_logits_v2(labels=Y, logits=prediction))\n",
    "\n",
    "# Optimizer\n",
    "#learning_rate = 0.001\n",
    "optimizer = tf.train.AdamOptimizer(0.3).minimize(cost_fn) \n",
    "#GradientDescentOptimizer(learning_rate).minimize(cost_fn)"
   ]
  },
  {
   "cell_type": "markdown",
   "metadata": {},
   "source": [
    "# Execute training of model"
   ]
  },
  {
   "cell_type": "code",
   "execution_count": 12,
   "metadata": {},
   "outputs": [
    {
     "name": "stdout",
     "output_type": "stream",
     "text": [
      "1021.14014\n",
      "31348.52\n",
      "3136.9055\n",
      "119.48605\n",
      "463.37296\n",
      "118.14853\n",
      "32.870316\n",
      "16.697119\n",
      "12.974517\n",
      "14.723721\n",
      "8.700795\n",
      "6.870035\n",
      "4.394591\n",
      "3.7840781\n",
      "2.9269638\n",
      "2.5335672\n",
      "2.422878\n",
      "2.4518414\n",
      "2.4141257\n",
      "2.3978684\n",
      "2.3144968\n",
      "2.3753788\n",
      "2.307265\n",
      "2.3153622\n",
      "2.3746412\n",
      "2.478251\n",
      "2.2685227\n",
      "2.286489\n",
      "2.2652922\n",
      "2.3674874\n",
      "2.235303\n",
      "2.248742\n",
      "2.2359474\n",
      "2.255494\n",
      "2.2936802\n",
      "2.2411213\n",
      "2.2671359\n",
      "2.2497365\n",
      "2.236496\n",
      "2.2302234\n",
      "2.2653315\n",
      "2.336017\n",
      "2.2747414\n",
      "2.3946464\n",
      "2.2604918\n",
      "2.2418532\n",
      "2.2789314\n",
      "2.2145243\n",
      "2.2048812\n",
      "2.197677\n",
      "2.241356\n",
      "2.2855496\n",
      "2.3415515\n",
      "2.2788973\n",
      "2.244881\n",
      "2.2688034\n",
      "2.2092545\n",
      "2.2520597\n",
      "2.2734296\n",
      "2.269765\n",
      "2.155957\n",
      "2.1896064\n",
      "2.31708\n",
      "2.275113\n",
      "2.2453327\n",
      "2.4091678\n",
      "2.1882129\n",
      "2.1538181\n",
      "2.1935549\n",
      "2.170491\n",
      "2.3182364\n",
      "2.250327\n",
      "2.3024797\n",
      "2.229329\n",
      "2.2985897\n",
      "2.2606683\n",
      "2.188509\n",
      "2.2135115\n",
      "2.2602355\n",
      "2.2438045\n",
      "2.229853\n",
      "2.2230635\n",
      "2.1993766\n",
      "2.153\n",
      "2.177958\n",
      "2.159575\n",
      "2.1945853\n",
      "2.136568\n",
      "2.1588922\n",
      "2.1680381\n",
      "2.1714914\n",
      "2.0757806\n",
      "2.042174\n",
      "2.11873\n"
     ]
    },
    {
     "ename": "KeyboardInterrupt",
     "evalue": "",
     "output_type": "error",
     "traceback": [
      "\u001b[0;31m---------------------------------------------------------------------------\u001b[0m",
      "\u001b[0;31mKeyboardInterrupt\u001b[0m                         Traceback (most recent call last)",
      "\u001b[0;32m<ipython-input-12-22ec48950e86>\u001b[0m in \u001b[0;36m<module>\u001b[0;34m()\u001b[0m\n\u001b[1;32m     21\u001b[0m             \u001b[0mY_train_batch\u001b[0m \u001b[0;34m=\u001b[0m \u001b[0mY_train\u001b[0m\u001b[0;34m[\u001b[0m\u001b[0;34m(\u001b[0m\u001b[0mb\u001b[0m\u001b[0;34m*\u001b[0m\u001b[0mbatch_size\u001b[0m\u001b[0;34m)\u001b[0m\u001b[0;34m:\u001b[0m\u001b[0;34m(\u001b[0m\u001b[0;34m(\u001b[0m\u001b[0mb\u001b[0m\u001b[0;34m+\u001b[0m\u001b[0;36m1\u001b[0m\u001b[0;34m)\u001b[0m\u001b[0;34m*\u001b[0m\u001b[0mbatch_size\u001b[0m\u001b[0;34m)\u001b[0m\u001b[0;34m,\u001b[0m\u001b[0;34m:\u001b[0m\u001b[0;34m]\u001b[0m\u001b[0;34m\u001b[0m\u001b[0m\n\u001b[1;32m     22\u001b[0m \u001b[0;34m\u001b[0m\u001b[0m\n\u001b[0;32m---> 23\u001b[0;31m             \u001b[0m_\u001b[0m\u001b[0;34m,\u001b[0m \u001b[0mcost\u001b[0m \u001b[0;34m=\u001b[0m \u001b[0msess\u001b[0m\u001b[0;34m.\u001b[0m\u001b[0mrun\u001b[0m\u001b[0;34m(\u001b[0m\u001b[0;34m[\u001b[0m\u001b[0moptimizer\u001b[0m\u001b[0;34m,\u001b[0m\u001b[0mcost_fn\u001b[0m\u001b[0;34m]\u001b[0m\u001b[0;34m,\u001b[0m \u001b[0;34m{\u001b[0m\u001b[0mX\u001b[0m\u001b[0;34m:\u001b[0m \u001b[0mX_train_batch\u001b[0m\u001b[0;34m,\u001b[0m \u001b[0mY\u001b[0m\u001b[0;34m:\u001b[0m\u001b[0mY_train_batch\u001b[0m\u001b[0;34m,\u001b[0m \u001b[0mkeep_prob\u001b[0m\u001b[0;34m:\u001b[0m \u001b[0;36m0.5\u001b[0m\u001b[0;34m}\u001b[0m\u001b[0;34m)\u001b[0m\u001b[0;34m\u001b[0m\u001b[0m\n\u001b[0m\u001b[1;32m     24\u001b[0m             \u001b[0mcosts\u001b[0m\u001b[0;34m.\u001b[0m\u001b[0mappend\u001b[0m\u001b[0;34m(\u001b[0m\u001b[0mcost\u001b[0m\u001b[0;34m)\u001b[0m\u001b[0;34m\u001b[0m\u001b[0m\n\u001b[1;32m     25\u001b[0m             \u001b[0mprint\u001b[0m\u001b[0;34m(\u001b[0m\u001b[0mcost\u001b[0m\u001b[0;34m)\u001b[0m\u001b[0;34m\u001b[0m\u001b[0m\n",
      "\u001b[0;32m~/Projects/TensorFlowGettingStarted/lib/python3.6/site-packages/tensorflow/python/client/session.py\u001b[0m in \u001b[0;36mrun\u001b[0;34m(self, fetches, feed_dict, options, run_metadata)\u001b[0m\n\u001b[1;32m    903\u001b[0m     \u001b[0;32mtry\u001b[0m\u001b[0;34m:\u001b[0m\u001b[0;34m\u001b[0m\u001b[0m\n\u001b[1;32m    904\u001b[0m       result = self._run(None, fetches, feed_dict, options_ptr,\n\u001b[0;32m--> 905\u001b[0;31m                          run_metadata_ptr)\n\u001b[0m\u001b[1;32m    906\u001b[0m       \u001b[0;32mif\u001b[0m \u001b[0mrun_metadata\u001b[0m\u001b[0;34m:\u001b[0m\u001b[0;34m\u001b[0m\u001b[0m\n\u001b[1;32m    907\u001b[0m         \u001b[0mproto_data\u001b[0m \u001b[0;34m=\u001b[0m \u001b[0mtf_session\u001b[0m\u001b[0;34m.\u001b[0m\u001b[0mTF_GetBuffer\u001b[0m\u001b[0;34m(\u001b[0m\u001b[0mrun_metadata_ptr\u001b[0m\u001b[0;34m)\u001b[0m\u001b[0;34m\u001b[0m\u001b[0m\n",
      "\u001b[0;32m~/Projects/TensorFlowGettingStarted/lib/python3.6/site-packages/tensorflow/python/client/session.py\u001b[0m in \u001b[0;36m_run\u001b[0;34m(self, handle, fetches, feed_dict, options, run_metadata)\u001b[0m\n\u001b[1;32m   1138\u001b[0m     \u001b[0;32mif\u001b[0m \u001b[0mfinal_fetches\u001b[0m \u001b[0;32mor\u001b[0m \u001b[0mfinal_targets\u001b[0m \u001b[0;32mor\u001b[0m \u001b[0;34m(\u001b[0m\u001b[0mhandle\u001b[0m \u001b[0;32mand\u001b[0m \u001b[0mfeed_dict_tensor\u001b[0m\u001b[0;34m)\u001b[0m\u001b[0;34m:\u001b[0m\u001b[0;34m\u001b[0m\u001b[0m\n\u001b[1;32m   1139\u001b[0m       results = self._do_run(handle, final_targets, final_fetches,\n\u001b[0;32m-> 1140\u001b[0;31m                              feed_dict_tensor, options, run_metadata)\n\u001b[0m\u001b[1;32m   1141\u001b[0m     \u001b[0;32melse\u001b[0m\u001b[0;34m:\u001b[0m\u001b[0;34m\u001b[0m\u001b[0m\n\u001b[1;32m   1142\u001b[0m       \u001b[0mresults\u001b[0m \u001b[0;34m=\u001b[0m \u001b[0;34m[\u001b[0m\u001b[0;34m]\u001b[0m\u001b[0;34m\u001b[0m\u001b[0m\n",
      "\u001b[0;32m~/Projects/TensorFlowGettingStarted/lib/python3.6/site-packages/tensorflow/python/client/session.py\u001b[0m in \u001b[0;36m_do_run\u001b[0;34m(self, handle, target_list, fetch_list, feed_dict, options, run_metadata)\u001b[0m\n\u001b[1;32m   1319\u001b[0m     \u001b[0;32mif\u001b[0m \u001b[0mhandle\u001b[0m \u001b[0;32mis\u001b[0m \u001b[0;32mNone\u001b[0m\u001b[0;34m:\u001b[0m\u001b[0;34m\u001b[0m\u001b[0m\n\u001b[1;32m   1320\u001b[0m       return self._do_call(_run_fn, feeds, fetches, targets, options,\n\u001b[0;32m-> 1321\u001b[0;31m                            run_metadata)\n\u001b[0m\u001b[1;32m   1322\u001b[0m     \u001b[0;32melse\u001b[0m\u001b[0;34m:\u001b[0m\u001b[0;34m\u001b[0m\u001b[0m\n\u001b[1;32m   1323\u001b[0m       \u001b[0;32mreturn\u001b[0m \u001b[0mself\u001b[0m\u001b[0;34m.\u001b[0m\u001b[0m_do_call\u001b[0m\u001b[0;34m(\u001b[0m\u001b[0m_prun_fn\u001b[0m\u001b[0;34m,\u001b[0m \u001b[0mhandle\u001b[0m\u001b[0;34m,\u001b[0m \u001b[0mfeeds\u001b[0m\u001b[0;34m,\u001b[0m \u001b[0mfetches\u001b[0m\u001b[0;34m)\u001b[0m\u001b[0;34m\u001b[0m\u001b[0m\n",
      "\u001b[0;32m~/Projects/TensorFlowGettingStarted/lib/python3.6/site-packages/tensorflow/python/client/session.py\u001b[0m in \u001b[0;36m_do_call\u001b[0;34m(self, fn, *args)\u001b[0m\n\u001b[1;32m   1325\u001b[0m   \u001b[0;32mdef\u001b[0m \u001b[0m_do_call\u001b[0m\u001b[0;34m(\u001b[0m\u001b[0mself\u001b[0m\u001b[0;34m,\u001b[0m \u001b[0mfn\u001b[0m\u001b[0;34m,\u001b[0m \u001b[0;34m*\u001b[0m\u001b[0margs\u001b[0m\u001b[0;34m)\u001b[0m\u001b[0;34m:\u001b[0m\u001b[0;34m\u001b[0m\u001b[0m\n\u001b[1;32m   1326\u001b[0m     \u001b[0;32mtry\u001b[0m\u001b[0;34m:\u001b[0m\u001b[0;34m\u001b[0m\u001b[0m\n\u001b[0;32m-> 1327\u001b[0;31m       \u001b[0;32mreturn\u001b[0m \u001b[0mfn\u001b[0m\u001b[0;34m(\u001b[0m\u001b[0;34m*\u001b[0m\u001b[0margs\u001b[0m\u001b[0;34m)\u001b[0m\u001b[0;34m\u001b[0m\u001b[0m\n\u001b[0m\u001b[1;32m   1328\u001b[0m     \u001b[0;32mexcept\u001b[0m \u001b[0merrors\u001b[0m\u001b[0;34m.\u001b[0m\u001b[0mOpError\u001b[0m \u001b[0;32mas\u001b[0m \u001b[0me\u001b[0m\u001b[0;34m:\u001b[0m\u001b[0;34m\u001b[0m\u001b[0m\n\u001b[1;32m   1329\u001b[0m       \u001b[0mmessage\u001b[0m \u001b[0;34m=\u001b[0m \u001b[0mcompat\u001b[0m\u001b[0;34m.\u001b[0m\u001b[0mas_text\u001b[0m\u001b[0;34m(\u001b[0m\u001b[0me\u001b[0m\u001b[0;34m.\u001b[0m\u001b[0mmessage\u001b[0m\u001b[0;34m)\u001b[0m\u001b[0;34m\u001b[0m\u001b[0m\n",
      "\u001b[0;32m~/Projects/TensorFlowGettingStarted/lib/python3.6/site-packages/tensorflow/python/client/session.py\u001b[0m in \u001b[0;36m_run_fn\u001b[0;34m(feed_dict, fetch_list, target_list, options, run_metadata)\u001b[0m\n\u001b[1;32m   1310\u001b[0m       \u001b[0mself\u001b[0m\u001b[0;34m.\u001b[0m\u001b[0m_extend_graph\u001b[0m\u001b[0;34m(\u001b[0m\u001b[0;34m)\u001b[0m\u001b[0;34m\u001b[0m\u001b[0m\n\u001b[1;32m   1311\u001b[0m       return self._call_tf_sessionrun(\n\u001b[0;32m-> 1312\u001b[0;31m           options, feed_dict, fetch_list, target_list, run_metadata)\n\u001b[0m\u001b[1;32m   1313\u001b[0m \u001b[0;34m\u001b[0m\u001b[0m\n\u001b[1;32m   1314\u001b[0m     \u001b[0;32mdef\u001b[0m \u001b[0m_prun_fn\u001b[0m\u001b[0;34m(\u001b[0m\u001b[0mhandle\u001b[0m\u001b[0;34m,\u001b[0m \u001b[0mfeed_dict\u001b[0m\u001b[0;34m,\u001b[0m \u001b[0mfetch_list\u001b[0m\u001b[0;34m)\u001b[0m\u001b[0;34m:\u001b[0m\u001b[0;34m\u001b[0m\u001b[0m\n",
      "\u001b[0;32m~/Projects/TensorFlowGettingStarted/lib/python3.6/site-packages/tensorflow/python/client/session.py\u001b[0m in \u001b[0;36m_call_tf_sessionrun\u001b[0;34m(self, options, feed_dict, fetch_list, target_list, run_metadata)\u001b[0m\n\u001b[1;32m   1418\u001b[0m         return tf_session.TF_Run(\n\u001b[1;32m   1419\u001b[0m             \u001b[0mself\u001b[0m\u001b[0;34m.\u001b[0m\u001b[0m_session\u001b[0m\u001b[0;34m,\u001b[0m \u001b[0moptions\u001b[0m\u001b[0;34m,\u001b[0m \u001b[0mfeed_dict\u001b[0m\u001b[0;34m,\u001b[0m \u001b[0mfetch_list\u001b[0m\u001b[0;34m,\u001b[0m \u001b[0mtarget_list\u001b[0m\u001b[0;34m,\u001b[0m\u001b[0;34m\u001b[0m\u001b[0m\n\u001b[0;32m-> 1420\u001b[0;31m             status, run_metadata)\n\u001b[0m\u001b[1;32m   1421\u001b[0m \u001b[0;34m\u001b[0m\u001b[0m\n\u001b[1;32m   1422\u001b[0m   \u001b[0;32mdef\u001b[0m \u001b[0m_call_tf_sessionprun\u001b[0m\u001b[0;34m(\u001b[0m\u001b[0mself\u001b[0m\u001b[0;34m,\u001b[0m \u001b[0mhandle\u001b[0m\u001b[0;34m,\u001b[0m \u001b[0mfeed_dict\u001b[0m\u001b[0;34m,\u001b[0m \u001b[0mfetch_list\u001b[0m\u001b[0;34m)\u001b[0m\u001b[0;34m:\u001b[0m\u001b[0;34m\u001b[0m\u001b[0m\n",
      "\u001b[0;31mKeyboardInterrupt\u001b[0m: "
     ]
    }
   ],
   "source": [
    "# global execution engine variable initializer \n",
    "init = tf.global_variables_initializer()\n",
    "\n",
    "# Setup model to run predictions and calculate accuracy \n",
    "# Evaluate predictions using tf.argmax to find call\n",
    "correct_predictions = tf.equal(tf.argmax(Y,1), tf.argmax(prediction,1 ))\n",
    "accuracy = tf.reduce_mean(tf.cast(correct_predictions, tf.float32))\n",
    "\n",
    "with tf.Session() as sess:\n",
    "    sess.run(init)\n",
    "    \n",
    "    iterations = 2\n",
    "    batch_size = 200\n",
    "    costs = []\n",
    "    \n",
    "    batches_in_training_set = math.floor(X_train.shape[0] / batch_size)\n",
    "    for i in range(iterations):\n",
    "        for b in range(batches_in_training_set):\n",
    "            # Would be better to randomize the batches but this is OK for now\n",
    "            X_train_batch = X_train[(b*batch_size):((b+1)*batch_size),:]\n",
    "            Y_train_batch = Y_train[(b*batch_size):((b+1)*batch_size),:]\n",
    "                \n",
    "            _, cost = sess.run([optimizer,cost_fn], {X: X_train_batch, Y:Y_train_batch, keep_prob: 0.5})\n",
    "            costs.append(cost)\n",
    "            print(cost)\n",
    "            \n",
    "        print(cost)\n",
    "            \n",
    "    plt.plot(costs)\n",
    "        \n",
    "    print(\"Accuracy Test=\", \"{:.2f}%\".format(100*sess.run(accuracy, {X: X_test, Y: Y_test, keep_prob: 1})))\n",
    "    #print(\"Accuracy Train=\", \"{:.2f}%\".format(100*sess.run(accuracy, {X: X_train, Y: Y_train, keep_prob: 1})))\n",
    "    "
   ]
  },
  {
   "cell_type": "code",
   "execution_count": null,
   "metadata": {},
   "outputs": [],
   "source": []
  }
 ],
 "metadata": {
  "kernelspec": {
   "display_name": "Python 3",
   "language": "python",
   "name": "python3"
  },
  "language_info": {
   "codemirror_mode": {
    "name": "ipython",
    "version": 3
   },
   "file_extension": ".py",
   "mimetype": "text/x-python",
   "name": "python",
   "nbconvert_exporter": "python",
   "pygments_lexer": "ipython3",
   "version": "3.6.3"
  }
 },
 "nbformat": 4,
 "nbformat_minor": 2
}
