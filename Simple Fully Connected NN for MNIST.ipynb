{
 "cells": [
  {
   "cell_type": "markdown",
   "metadata": {},
   "source": [
    "# Simple example of a fully connected NN for the MNIST dataset in TensorFlow"
   ]
  },
  {
   "cell_type": "code",
   "execution_count": 77,
   "metadata": {},
   "outputs": [],
   "source": [
    "import tensorflow as tf\n",
    "import numpy as np\n",
    "import math\n",
    "import matplotlib.pyplot as plt \n",
    "import idx2numpy"
   ]
  },
  {
   "cell_type": "markdown",
   "metadata": {},
   "source": [
    "# Import dataset and convert to one-hot encoding and a [m,784] matrix"
   ]
  },
  {
   "cell_type": "code",
   "execution_count": 84,
   "metadata": {},
   "outputs": [],
   "source": [
    "Y_test_classes = idx2numpy.convert_from_file('data/t10k-labels.idx1-ubyte')\n",
    "X_test = idx2numpy.convert_from_file('data/t10k-images.idx3-ubyte')\n",
    "\n",
    "Y_train_classes = idx2numpy.convert_from_file('data/train-labels.idx1-ubyte')\n",
    "X_train = idx2numpy.convert_from_file('data/train-images.idx3-ubyte')"
   ]
  },
  {
   "cell_type": "code",
   "execution_count": 86,
   "metadata": {},
   "outputs": [
    {
     "name": "stdout",
     "output_type": "stream",
     "text": [
      "Digit= 5 Digit Encoded= [0. 0. 0. 0. 0. 1. 0. 0. 0. 0.]\n"
     ]
    },
    {
     "data": {
      "text/plain": [
       "<matplotlib.image.AxesImage at 0x7f5363cb0c88>"
      ]
     },
     "execution_count": 86,
     "metadata": {},
     "output_type": "execute_result"
    },
    {
     "data": {
      "image/png": "[encoded data removed]",
      "text/plain": [
       "<Figure size 432x288 with 1 Axes>"
      ]
     },
     "metadata": {},
     "output_type": "display_data"
    }
   ],
   "source": [
    "number_of_classes = np.unique(Y_test_classes).size\n",
    "\n",
    "Y_test = np.eye(number_of_classes)[Y_test_classes]\n",
    "Y_train = np.eye(number_of_classes)[Y_train_classes]\n",
    "\n",
    "print(\"Digit=\", Y_train_classes[0], \"Digit Encoded=\", Y_train[0])\n",
    "\n",
    "plt.imshow(X_train[0])\n"
   ]
  },
  {
   "cell_type": "code",
   "execution_count": null,
   "metadata": {},
   "outputs": [],
   "source": [
    "\n",
    "# Convert input from image to \n",
    "X_test = np.reshape(X_test,(Y_test_classes.size,28*28))\n",
    "X_train = np.reshape(X_train,(Y_train_classes.size,28*28))"
   ]
  },
  {
   "cell_type": "markdown",
   "metadata": {},
   "source": [
    "# Setup simple NN tensorflow model"
   ]
  },
  {
   "cell_type": "code",
   "execution_count": 75,
   "metadata": {},
   "outputs": [],
   "source": [
    "X = tf.placeholder(tf.float32, shape=[None, 28*28], name=\"input_image\")\n",
    "Y = tf.placeholder(tf.float32, shape=[None, 10], name=\"output_layer\")\n",
    "\n",
    "W = tf.Variable(tf.zeros([28*28,10]))\n",
    "b = tf.Variable(tf.zeros([10]))\n",
    "                \n",
    "# Network is a simple single softmax activation layer \n",
    "prediction = tf.nn.softmax(tf.matmul(X, W) + b)\n",
    "                \n",
    "# Cost function will use cross entropy\n",
    "cost_fn = tf.reduce_mean(tf.nn.softmax_cross_entropy_with_logits_v2(labels=Y, logits=prediction))\n",
    "\n",
    "# Optimizer\n",
    "learning_rate = 0.001\n",
    "optimizer = tf.train.AdamOptimizer(learning_rate).minimize(cost_fn) \n",
    "#GradientDescentOptimizer(learning_rate).minimize(cost_fn)"
   ]
  },
  {
   "cell_type": "markdown",
   "metadata": {},
   "source": [
    "# Train model check performance"
   ]
  },
  {
   "cell_type": "code",
   "execution_count": 76,
   "metadata": {},
   "outputs": [
    {
     "name": "stdout",
     "output_type": "stream",
     "text": [
      "Accuracy Train= 91.04%\n",
      "Accuracy Test= 90.67%\n"
     ]
    },
    {
     "data": {
      "image/png": "[encoded data removed]",
      "text/plain": [
       "<Figure size 432x288 with 1 Axes>"
      ]
     },
     "metadata": {},
     "output_type": "display_data"
    }
   ],
   "source": [
    "# global execution engine variable initializer \n",
    "init = tf.global_variables_initializer()\n",
    "\n",
    "# Setup model to run predictions and calculate accuracy \n",
    "# Evaluate predictions using tf.argmax to find call\n",
    "correct_predictions = tf.equal(tf.argmax(Y,1), tf.argmax(prediction,1 ))\n",
    "accuracy = tf.reduce_mean(tf.cast(correct_predictions, tf.float32))\n",
    "\n",
    "with tf.Session() as sess:\n",
    "    sess.run(init)\n",
    "    \n",
    "    iterations = 10\n",
    "    batch_size = 1000\n",
    "    costs = []\n",
    "    \n",
    "    batches_in_training_set = math.floor(X_train.shape[0] / batch_size)\n",
    "    for i in range(iterations):\n",
    "        for b in range(batches_in_training_set):\n",
    "            # Would be better to randomize the batches but this is OK for now\n",
    "            X_train_batch = X_train[(b*batch_size):((b+1)*batch_size),:]\n",
    "            Y_train_batch = Y_train[(b*batch_size):((b+1)*batch_size),:]\n",
    "                \n",
    "            _, cost = sess.run([optimizer,cost_fn], {X: X_train_batch, Y:Y_train_batch})\n",
    "            costs.append(cost)\n",
    "            \n",
    "        plt.plot(costs)\n",
    "        \n",
    "    print(\"Accuracy Train=\", \"{:.2f}%\".format(100*sess.run(accuracy, {X: X_train, Y: Y_train})))\n",
    "    print(\"Accuracy Test=\", \"{:.2f}%\".format(100*sess.run(accuracy, {X: X_test, Y: Y_test})))\n",
    "    "
   ]
  },
  {
   "cell_type": "code",
   "execution_count": null,
   "metadata": {},
   "outputs": [],
   "source": []
  }
 ],
 "metadata": {
  "kernelspec": {
   "display_name": "Python 3",
   "language": "python",
   "name": "python3"
  },
  "language_info": {
   "codemirror_mode": {
    "name": "ipython",
    "version": 3
   },
   "file_extension": ".py",
   "mimetype": "text/x-python",
   "name": "python",
   "nbconvert_exporter": "python",
   "pygments_lexer": "ipython3",
   "version": "3.6.3"
  }
 },
 "nbformat": 4,
 "nbformat_minor": 2
}
