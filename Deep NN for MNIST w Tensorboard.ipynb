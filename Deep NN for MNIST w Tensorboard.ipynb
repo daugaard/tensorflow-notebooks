{
 "cells": [
  {
   "cell_type": "markdown",
   "metadata": {},
   "source": [
    "# Example of deep NN for MNIST data"
   ]
  },
  {
   "cell_type": "code",
   "execution_count": 1,
   "metadata": {},
   "outputs": [
    {
     "name": "stderr",
     "output_type": "stream",
     "text": [
      "C:\\Users\\soren.b.daugaard\\AppData\\Local\\Continuum\\anaconda3\\lib\\site-packages\\h5py\\__init__.py:36: FutureWarning: Conversion of the second argument of issubdtype from `float` to `np.floating` is deprecated. In future, it will be treated as `np.float64 == np.dtype(float).type`.\n",
      "  from ._conv import register_converters as _register_converters\n"
     ]
    }
   ],
   "source": [
    "import tensorflow as tf\n",
    "import numpy as np\n",
    "import math\n",
    "import matplotlib.pyplot as plt \n",
    "import idx2numpy\n",
    "import time"
   ]
  },
  {
   "cell_type": "markdown",
   "metadata": {},
   "source": [
    "## Setup logging and help function"
   ]
  },
  {
   "cell_type": "code",
   "execution_count": 2,
   "metadata": {},
   "outputs": [],
   "source": [
    "log_path = \"./tensorboard_logs_nn_deep_mnist/05_batch_100_FC_1024/\"\n",
    "\n",
    "def variable_summaries(var):\n",
    "    # Attach a lot of summaries to a Tensor (for TensorBoard visualization).\n",
    "    mean = tf.reduce_mean(var)\n",
    "    tf.summary.scalar('mean', mean)\n",
    "    with tf.name_scope('stddev'):\n",
    "      stddev = tf.sqrt(tf.reduce_mean(tf.square(var - mean)))\n",
    "    tf.summary.scalar('stddev', stddev)\n",
    "    tf.summary.scalar('max', tf.reduce_max(var))\n",
    "    tf.summary.scalar('min', tf.reduce_min(var))\n",
    "    tf.summary.histogram('histogram', var)"
   ]
  },
  {
   "cell_type": "markdown",
   "metadata": {},
   "source": [
    "# Import dataset and convert to one-hot encoding and a [m,784] matrix"
   ]
  },
  {
   "cell_type": "code",
   "execution_count": 3,
   "metadata": {},
   "outputs": [],
   "source": [
    "Y_test_classes = idx2numpy.convert_from_file('data/t10k-labels.idx1-ubyte')\n",
    "X_test = idx2numpy.convert_from_file('data/t10k-images.idx3-ubyte')\n",
    "\n",
    "Y_train_classes = idx2numpy.convert_from_file('data/train-labels.idx1-ubyte')\n",
    "X_train = idx2numpy.convert_from_file('data/train-images.idx3-ubyte')"
   ]
  },
  {
   "cell_type": "code",
   "execution_count": 4,
   "metadata": {},
   "outputs": [
    {
     "name": "stdout",
     "output_type": "stream",
     "text": [
      "Digit= 5 Digit Encoded= [0. 0. 0. 0. 0. 1. 0. 0. 0. 0.]\n"
     ]
    },
    {
     "data": {
      "text/plain": [
       "<matplotlib.image.AxesImage at 0x171b9419358>"
      ]
     },
     "execution_count": 4,
     "metadata": {},
     "output_type": "execute_result"
    },
    {
     "data": {
      "image/png": "[encoded data removed]",
      "text/plain": [
       "<matplotlib.figure.Figure at 0x171b5a2deb8>"
      ]
     },
     "metadata": {},
     "output_type": "display_data"
    }
   ],
   "source": [
    "number_of_classes = np.unique(Y_test_classes).size\n",
    "\n",
    "Y_test = np.eye(number_of_classes)[Y_test_classes]\n",
    "Y_train = np.eye(number_of_classes)[Y_train_classes]\n",
    "\n",
    "print(\"Digit=\", Y_train_classes[0], \"Digit Encoded=\", Y_train[0])\n",
    "\n",
    "plt.imshow(X_train[0])"
   ]
  },
  {
   "cell_type": "code",
   "execution_count": 5,
   "metadata": {},
   "outputs": [],
   "source": [
    "# Convert input from image to 4D matrix\n",
    "X_test = np.reshape(X_test,[-1,28,28,1])\n",
    "X_train = np.reshape(X_train,[-1,28,28,1])"
   ]
  },
  {
   "cell_type": "markdown",
   "metadata": {},
   "source": [
    "# Setup deep NN model\n",
    "We'll be setting put a network with the following architecture:\n",
    "CONV1 -> MAXPOOL1 -> CONV2 -> MAXPOOL2 -> FC RELU -> SOFTMAX"
   ]
  },
  {
   "cell_type": "code",
   "execution_count": 6,
   "metadata": {},
   "outputs": [],
   "source": [
    "filters_conv1 = 32\n",
    "filters_conv2 = 64\n",
    "fc_size = 1024\n",
    "\n",
    "with tf.name_scope(\"Input_Data\"):\n",
    "    X = tf.placeholder(tf.float32, [None,28,28,1], name=\"input\")\n",
    "    Y = tf.placeholder(tf.float32, [None,10], name=\"labels\")\n",
    "\n",
    "with tf.name_scope(\"CONV1_Layer\"):\n",
    "    # Define variables for model\n",
    "    # CONV1 LAYER\n",
    "    W1 = tf.Variable( tf.truncated_normal([5,5,1,filters_conv1], stddev=0.1) )\n",
    "    b1 = tf.Variable(np.zeros(filters_conv1), dtype=tf.float32)\n",
    "\n",
    "    variable_summaries(W1)\n",
    "    variable_summaries(b1)\n",
    "    \n",
    "    CONV1 = tf.nn.relu( tf.nn.conv2d(X,W1,strides=[1,1,1,1],padding=\"SAME\") + b1)\n",
    "    MAXPOOL1 = tf.nn.max_pool(CONV1, ksize=[1,2,2,1], strides=[1,2,2,1],padding=\"SAME\")\n",
    "\n",
    "with tf.name_scope(\"CONV2_Layer\"):\n",
    "    # CONV2 LAYER\n",
    "    W2 = tf.Variable( tf.truncated_normal([5,5,filters_conv1,filters_conv2], stddev=0.1) )\n",
    "    b2 = tf.Variable(np.zeros(filters_conv2), dtype=tf.float32)\n",
    "    \n",
    "    variable_summaries(W2)\n",
    "    variable_summaries(b2)\n",
    "    \n",
    "    CONV2 = tf.nn.relu( tf.nn.conv2d(MAXPOOL1, W2,strides=[1,1,1,1],padding=\"SAME\") + b2)\n",
    "    MAXPOOL2 = tf.nn.max_pool(CONV2, ksize=[1,2,2,1], strides=[1,2,2,1],padding=\"SAME\")\n",
    "\n",
    "with tf.name_scope(\"FC1_Layer\"):\n",
    "    # FC LAYER\n",
    "    W3 = tf.Variable( tf.truncated_normal([7*7*filters_conv2, fc_size], stddev=0.1 ))\n",
    "    b3 = tf.Variable(np.zeros(fc_size), dtype=tf.float32)\n",
    "\n",
    "    # Flatten image data\n",
    "    FLATTEN = tf.reshape(MAXPOOL2, [-1,7*7*filters_conv2])\n",
    "\n",
    "    # Fully-connected layer + dropout regularization\n",
    "    FC = tf.nn.relu( tf.matmul(FLATTEN, W3) + b3 )\n",
    "    keep_prob = tf.placeholder(tf.float32, name=\"Keep_Prob\")\n",
    "    FC = tf.nn.dropout(FC, keep_prob)\n",
    "\n",
    "with tf.name_scope(\"Output_Layer\"):\n",
    "    # SOFTMAX layer\n",
    "    W4 = tf.Variable(tf.truncated_normal([fc_size, 10], stddev=0.1))\n",
    "    b4 = tf.Variable(np.zeros(10), dtype=tf.float32)\n",
    "\n",
    "    # Note tf.nn.softmax is not called because the cost function expects unscalled logits\n",
    "    ZOUT = tf.matmul(FC, W4) + b4\n",
    "    prediction = tf.nn.softmax(ZOUT)\n",
    "    "
   ]
  },
  {
   "cell_type": "markdown",
   "metadata": {},
   "source": [
    "## Define cost and optimizer"
   ]
  },
  {
   "cell_type": "code",
   "execution_count": 7,
   "metadata": {},
   "outputs": [],
   "source": [
    "# Cost function will use cross entropy\n",
    "cost_fn = tf.reduce_mean(tf.nn.softmax_cross_entropy_with_logits_v2(labels=Y, logits=ZOUT))\n",
    "\n",
    "# Optimizer\n",
    "#learning_rate = 0.001\n",
    "optimizer = tf.train.AdamOptimizer(0.0005).minimize(cost_fn) \n",
    "#GradientDescentOptimizer(learning_rate).minimize(cost_fn)\n",
    "\n",
    "\n",
    "# Setup model to run predictions and calculate accuracy\n",
    "# Evaluate predictions using tf.argmax to find call\n",
    "with tf.name_scope(\"Accuracy\"):\n",
    "    correct_predictions = tf.equal(tf.argmax(Y,1), tf.argmax(prediction,1 ))\n",
    "    accuracy = tf.reduce_mean(tf.cast(correct_predictions, tf.float32))\n",
    "\n",
    "\n",
    "tf.summary.scalar(\"accuracy\", accuracy)\n",
    "tf.summary.scalar(\"cost\", cost_fn)\n",
    "\n",
    "merged_summary = tf.summary.merge_all()"
   ]
  },
  {
   "cell_type": "markdown",
   "metadata": {},
   "source": [
    "# Execute training of model"
   ]
  },
  {
   "cell_type": "code",
   "execution_count": 8,
   "metadata": {},
   "outputs": [
    {
     "name": "stdout",
     "output_type": "stream",
     "text": [
      "Iteration 0 processed at 216.15s Cost= 6.451606\n",
      "Iteration 1 processed at 410.28s Cost= 2.7298064\n",
      "Accuracy Test= 97.17%\n"
     ]
    },
    {
     "data": {
      "image/png": "[encoded data removed]",
      "text/plain": [
       "<matplotlib.figure.Figure at 0x171b9adaf98>"
      ]
     },
     "metadata": {},
     "output_type": "display_data"
    }
   ],
   "source": [
    "# global execution engine variable initializer \n",
    "init = tf.global_variables_initializer()\n",
    "\n",
    "start_time = time.time()\n",
    "\n",
    "with tf.Session() as sess:\n",
    "    sess.run(init)\n",
    "    \n",
    "    # Write default graph to log\n",
    "    tensor_board_writer = tf.summary.FileWriter(log_path, sess.graph)\n",
    "    \n",
    "    iterations = 2\n",
    "    batch_size = 100\n",
    "    costs = []\n",
    "    \n",
    "    log_for_every_i_b = 5\n",
    "    \n",
    "    batches_in_training_set = math.floor(X_train.shape[0] / batch_size)\n",
    "    for i in range(iterations):\n",
    "        for b in range(batches_in_training_set):\n",
    "            i_b = (i*batches_in_training_set) + b\n",
    "            # Would be better to randomize the batches but this is OK for now\n",
    "            X_train_batch = X_train[(b*batch_size):((b+1)*batch_size),:]\n",
    "            Y_train_batch = Y_train[(b*batch_size):((b+1)*batch_size),:]\n",
    "            \n",
    "            _, cost = sess.run([optimizer,cost_fn], feed_dict={X: X_train_batch, Y:Y_train_batch, keep_prob: 0.5})\n",
    "            costs.append(cost)\n",
    "            \n",
    "            if(i_b % log_for_every_i_b == 0 and i_b != 0):\n",
    "                _summary = sess.run(merged_summary, feed_dict={X: X_train_batch, Y:Y_train_batch, keep_prob: 1})\n",
    "                tensor_board_writer.add_summary(_summary, i_b)\n",
    "                #print(\"Batch\",i_b,\"processed at\", \"{:.2f}s\".format(time.time()-start_time))\n",
    "        \n",
    "        print(\"Iteration\",i,\"processed at\", \"{:.2f}s\".format(time.time()-start_time), \"Cost=\", cost)\n",
    "            \n",
    "    plt.plot(costs)\n",
    "        \n",
    "    print(\"Accuracy Test=\", \"{:.2f}%\".format(100*sess.run(accuracy, {X: X_test, Y: Y_test, keep_prob: 1})))\n",
    "    #print(\"Accuracy Train=\", \"{:.2f}%\".format(100*sess.run(accuracy, {X: X_train, Y: Y_train, keep_prob: 1})))\n",
    "    "
   ]
  },
  {
   "cell_type": "code",
   "execution_count": null,
   "metadata": {},
   "outputs": [],
   "source": []
  }
 ],
 "metadata": {
  "kernelspec": {
   "display_name": "Python 3",
   "language": "python",
   "name": "python3"
  },
  "language_info": {
   "codemirror_mode": {
    "name": "ipython",
    "version": 3
   },
   "file_extension": ".py",
   "mimetype": "text/x-python",
   "name": "python",
   "nbconvert_exporter": "python",
   "pygments_lexer": "ipython3",
   "version": "3.6.4"
  }
 },
 "nbformat": 4,
 "nbformat_minor": 2
}
